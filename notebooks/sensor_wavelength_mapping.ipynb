{
 "cells": [
  {
   "cell_type": "markdown",
   "metadata": {},
   "source": [
    "# Tradebook for Mapping of Wavelengths onto Sensor Face"
   ]
  },
  {
   "cell_type": "code",
   "execution_count": 1,
   "metadata": {},
   "outputs": [],
   "source": [
    "# external\n",
    "import astropy.units as unit\n",
    "import numpy as np\n",
    "import pandas as pd\n",
    "import plot\n",
    "from IPython.display import display\n",
    "\n",
    "# project\n",
    "from payload_designer import components, systems\n",
    "from payload_designer.libs import utillib"
   ]
  },
  {
   "cell_type": "markdown",
   "metadata": {},
   "source": [
    "## Setup\n",
    "Run this section onwards when a parameter is updated."
   ]
  },
  {
   "cell_type": "markdown",
   "metadata": {},
   "source": [
    "### Parameters"
   ]
  },
  {
   "cell_type": "code",
   "execution_count": 2,
   "metadata": {},
   "outputs": [],
   "source": [
    "# region constants\n",
    "lower_wavelength = 900\n",
    "upper_wavelength = 1700\n",
    "# endregion\n",
    "\n",
    "# region variables\n",
    "wavelength = np.arange(start=900, stop=1700, step=1)\n",
    "# endregion"
   ]
  },
  {
   "cell_type": "markdown",
   "metadata": {},
   "source": [
    "### Artifact Instantiation"
   ]
  },
  {
   "cell_type": "code",
   "execution_count": 3,
   "metadata": {},
   "outputs": [],
   "source": [
    "# region components\n",
    "foreoptic = components.foreoptics.Chromar()\n",
    "slit = components.masks.RectSlit()\n",
    "collimator = components.lenses.Lens()\n",
    "bandfilter = components.filters.DichroicBandFilter()\n",
    "grism = components.diffractors.VPHGrism(apex_angle=45, index_prism=1, index_seal=1, fringe_frequency=600)\n",
    "focuser = components.lenses.Lens(focal_length=12)\n",
    "# endregion\n",
    "\n",
    "# region systems\n",
    "payload = systems.payloads.FINCHEye(\n",
    "        foreoptic=foreoptic,\n",
    "        slit=slit,\n",
    "        collimator=collimator,\n",
    "        bandfilter=bandfilter,\n",
    "        grism=grism,\n",
    "        focuser=focuser,\n",
    ")\n",
    "# endregion"
   ]
  },
  {
   "cell_type": "markdown",
   "metadata": {},
   "source": [
    "## Pipeline\n",
    "The computational graph"
   ]
  },
  {
   "cell_type": "code",
   "execution_count": 4,
   "metadata": {},
   "outputs": [
    {
     "name": "stderr",
     "output_type": "stream",
     "text": [
      "C:\\Users\\Optics\\Documents\\GitHub\\payload-designer\\payload_designer\\components\\diffractors.py:235: RuntimeWarning: invalid value encountered in arcsin\n",
      "  angle_6 = np.arcsin(\n"
     ]
    },
    {
     "ename": "TypeError",
     "evalue": "unsupported operand type(s) for *: 'NoneType' and 'float'",
     "output_type": "error",
     "traceback": [
      "\u001b[1;31m---------------------------------------------------------------------------\u001b[0m",
      "\u001b[1;31mTypeError\u001b[0m                                 Traceback (most recent call last)",
      "\u001b[1;32mc:\\Users\\Optics\\Documents\\GitHub\\payload-designer\\notebooks\\sensor_wavelength_mapping.ipynb Cell 9\u001b[0m in \u001b[0;36m<cell line: 3>\u001b[1;34m()\u001b[0m\n\u001b[0;32m      <a href='vscode-notebook-cell:/c%3A/Users/Optics/Documents/GitHub/payload-designer/notebooks/sensor_wavelength_mapping.ipynb#ch0000008?line=0'>1</a>\u001b[0m \u001b[39m# get image height on lens\u001b[39;00m\n\u001b[0;32m      <a href='vscode-notebook-cell:/c%3A/Users/Optics/Documents/GitHub/payload-designer/notebooks/sensor_wavelength_mapping.ipynb#ch0000008?line=1'>2</a>\u001b[0m \u001b[39m# calculate sensor height as function of wavelength\u001b[39;00m\n\u001b[1;32m----> <a href='vscode-notebook-cell:/c%3A/Users/Optics/Documents/GitHub/payload-designer/notebooks/sensor_wavelength_mapping.ipynb#ch0000008?line=2'>3</a>\u001b[0m sensor_height \u001b[39m=\u001b[39m payload\u001b[39m.\u001b[39;49mget_mapped_height_sensor(wavelength\u001b[39m=\u001b[39;49mwavelength)\n",
      "File \u001b[1;32m~\\Documents\\GitHub\\payload-designer\\payload_designer\\systems\\payloads.py:298\u001b[0m, in \u001b[0;36mFINCHEye.get_mapped_height_sensor\u001b[1;34m(self, wavelength)\u001b[0m\n\u001b[0;32m    295\u001b[0m \u001b[39m\"\"\"Get height on sensor that given wavelength hits.\"\"\"\u001b[39;00m\n\u001b[0;32m    297\u001b[0m incident_angle \u001b[39m=\u001b[39m \u001b[39mself\u001b[39m\u001b[39m.\u001b[39mget_incident_angle(wavelength\u001b[39m=\u001b[39mwavelength)\n\u001b[1;32m--> 298\u001b[0m image_height \u001b[39m=\u001b[39m \u001b[39m19\u001b[39m \u001b[39m+\u001b[39m \u001b[39mself\u001b[39;49m\u001b[39m.\u001b[39;49mfocuser\u001b[39m.\u001b[39;49mget_image_height(\n\u001b[0;32m    299\u001b[0m     incident_angle\u001b[39m=\u001b[39;49mincident_angle\n\u001b[0;32m    300\u001b[0m )\n\u001b[0;32m    302\u001b[0m \u001b[39mreturn\u001b[39;00m image_height\n",
      "File \u001b[1;32m~\\Documents\\GitHub\\payload-designer\\payload_designer\\components\\lenses.py:47\u001b[0m, in \u001b[0;36mLens.get_image_height\u001b[1;34m(self, incident_angle)\u001b[0m\n\u001b[0;32m     43\u001b[0m \u001b[39mdef\u001b[39;00m \u001b[39mget_image_height\u001b[39m(\u001b[39mself\u001b[39m, incident_angle):\n\u001b[0;32m     44\u001b[0m     \u001b[39m\"\"\"Get the height of the image formed above or below the optical axis of\u001b[39;00m\n\u001b[0;32m     45\u001b[0m \u001b[39m    the lens for an incoming beam of collimated light.\"\"\"\u001b[39;00m\n\u001b[1;32m---> 47\u001b[0m     image_height \u001b[39m=\u001b[39m \u001b[39mself\u001b[39;49m\u001b[39m.\u001b[39;49mfocal_length \u001b[39m*\u001b[39;49m np\u001b[39m.\u001b[39;49mtan(incident_angle)\n\u001b[0;32m     49\u001b[0m     \u001b[39mreturn\u001b[39;00m image_height\n",
      "\u001b[1;31mTypeError\u001b[0m: unsupported operand type(s) for *: 'NoneType' and 'float'"
     ]
    }
   ],
   "source": [
    "# get image height on lens\n",
    "# calculate sensor height as function of wavelength\n",
    "sensor_height = payload.get_mapped_height_sensor(wavelength=wavelength)"
   ]
  },
  {
   "cell_type": "markdown",
   "metadata": {},
   "source": [
    "## Plots"
   ]
  },
  {
   "cell_type": "code",
   "execution_count": null,
   "metadata": {},
   "outputs": [],
   "source": [
    "sensor_height_label = f\"Sensor Height [{sensor_height.unit}]\"\n",
    "wavelength_label = f\"Wavelength Resolution [{wavelength.unit}]\"\n",
    "\n",
    "data = {\n",
    "    sensor_height_label: sensor_height,\n",
    "    wavelength_label: wavelength,\n",
    "}\n",
    "\n",
    "df = pd.DataFrame.from_dict(data=data)\n",
    "\n",
    "graph = plot.line(\n",
    "    df=df,\n",
    "    x=sensor_height_label,\n",
    "    y=wavelength_label,\n",
    "    title=None,\n",
    "    dark=False,\n",
    ")\n",
    "\n",
    "graph.show()\n",
    "display(df)"
   ]
  }
 ],
 "metadata": {
  "interpreter": {
   "hash": "a051636751d8b8c3fb678ae2c2b84596f57742a247cc1675aae9ee3b371aaacc"
  },
  "kernelspec": {
   "display_name": "Python 3.10.4 ('.venv': poetry)",
   "language": "python",
   "name": "python3"
  },
  "language_info": {
   "codemirror_mode": {
    "name": "ipython",
    "version": 3
   },
   "file_extension": ".py",
   "mimetype": "text/x-python",
   "name": "python",
   "nbconvert_exporter": "python",
   "pygments_lexer": "ipython3",
   "version": "3.10.4"
  },
  "orig_nbformat": 4
 },
 "nbformat": 4,
 "nbformat_minor": 2
}
